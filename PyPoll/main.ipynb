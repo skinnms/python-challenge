{
 "cells": [
  {
   "cell_type": "code",
   "execution_count": 1,
   "metadata": {},
   "outputs": [],
   "source": [
    "import pandas as pd"
   ]
  },
  {
   "cell_type": "code",
   "execution_count": 2,
   "metadata": {},
   "outputs": [
    {
     "data": {
      "text/html": [
       "<div>\n",
       "<style scoped>\n",
       "    .dataframe tbody tr th:only-of-type {\n",
       "        vertical-align: middle;\n",
       "    }\n",
       "\n",
       "    .dataframe tbody tr th {\n",
       "        vertical-align: top;\n",
       "    }\n",
       "\n",
       "    .dataframe thead th {\n",
       "        text-align: right;\n",
       "    }\n",
       "</style>\n",
       "<table border=\"1\" class=\"dataframe\">\n",
       "  <thead>\n",
       "    <tr style=\"text-align: right;\">\n",
       "      <th></th>\n",
       "      <th>Voter ID</th>\n",
       "      <th>County</th>\n",
       "      <th>Candidate</th>\n",
       "    </tr>\n",
       "  </thead>\n",
       "  <tbody>\n",
       "    <tr>\n",
       "      <td>0</td>\n",
       "      <td>12864552</td>\n",
       "      <td>Marsh</td>\n",
       "      <td>Khan</td>\n",
       "    </tr>\n",
       "    <tr>\n",
       "      <td>1</td>\n",
       "      <td>17444633</td>\n",
       "      <td>Marsh</td>\n",
       "      <td>Correy</td>\n",
       "    </tr>\n",
       "    <tr>\n",
       "      <td>2</td>\n",
       "      <td>19330107</td>\n",
       "      <td>Marsh</td>\n",
       "      <td>Khan</td>\n",
       "    </tr>\n",
       "    <tr>\n",
       "      <td>3</td>\n",
       "      <td>19865775</td>\n",
       "      <td>Queen</td>\n",
       "      <td>Khan</td>\n",
       "    </tr>\n",
       "    <tr>\n",
       "      <td>4</td>\n",
       "      <td>11927875</td>\n",
       "      <td>Marsh</td>\n",
       "      <td>Khan</td>\n",
       "    </tr>\n",
       "  </tbody>\n",
       "</table>\n",
       "</div>"
      ],
      "text/plain": [
       "   Voter ID County Candidate\n",
       "0  12864552  Marsh      Khan\n",
       "1  17444633  Marsh    Correy\n",
       "2  19330107  Marsh      Khan\n",
       "3  19865775  Queen      Khan\n",
       "4  11927875  Marsh      Khan"
      ]
     },
     "execution_count": 2,
     "metadata": {},
     "output_type": "execute_result"
    }
   ],
   "source": [
    "csv = ('election_data.csv')\n",
    "df = pd.read_csv(csv)\n",
    "df.head()"
   ]
  },
  {
   "cell_type": "code",
   "execution_count": 3,
   "metadata": {},
   "outputs": [
    {
     "data": {
      "text/plain": [
       "3521001"
      ]
     },
     "execution_count": 3,
     "metadata": {},
     "output_type": "execute_result"
    }
   ],
   "source": [
    "tot_votes = df['Voter ID'].count()\n",
    "tot_votes"
   ]
  },
  {
   "cell_type": "code",
   "execution_count": 4,
   "metadata": {},
   "outputs": [
    {
     "data": {
      "text/html": [
       "<div>\n",
       "<style scoped>\n",
       "    .dataframe tbody tr th:only-of-type {\n",
       "        vertical-align: middle;\n",
       "    }\n",
       "\n",
       "    .dataframe tbody tr th {\n",
       "        vertical-align: top;\n",
       "    }\n",
       "\n",
       "    .dataframe thead th {\n",
       "        text-align: right;\n",
       "    }\n",
       "</style>\n",
       "<table border=\"1\" class=\"dataframe\">\n",
       "  <thead>\n",
       "    <tr style=\"text-align: right;\">\n",
       "      <th></th>\n",
       "      <th>Vote Count</th>\n",
       "      <th>Percent of Total</th>\n",
       "    </tr>\n",
       "    <tr>\n",
       "      <th>Candidate</th>\n",
       "      <th></th>\n",
       "      <th></th>\n",
       "    </tr>\n",
       "  </thead>\n",
       "  <tbody>\n",
       "    <tr>\n",
       "      <td>Correy</td>\n",
       "      <td>704200</td>\n",
       "      <td>0.20</td>\n",
       "    </tr>\n",
       "    <tr>\n",
       "      <td>Khan</td>\n",
       "      <td>2218231</td>\n",
       "      <td>0.63</td>\n",
       "    </tr>\n",
       "    <tr>\n",
       "      <td>Li</td>\n",
       "      <td>492940</td>\n",
       "      <td>0.14</td>\n",
       "    </tr>\n",
       "    <tr>\n",
       "      <td>O'Tooley</td>\n",
       "      <td>105630</td>\n",
       "      <td>0.03</td>\n",
       "    </tr>\n",
       "  </tbody>\n",
       "</table>\n",
       "</div>"
      ],
      "text/plain": [
       "           Vote Count  Percent of Total\n",
       "Candidate                              \n",
       "Correy         704200              0.20\n",
       "Khan          2218231              0.63\n",
       "Li             492940              0.14\n",
       "O'Tooley       105630              0.03"
      ]
     },
     "execution_count": 4,
     "metadata": {},
     "output_type": "execute_result"
    }
   ],
   "source": [
    "# group by Candidate\n",
    "group_df = df.groupby(['Candidate'])\n",
    "# count votes\n",
    "newdf = group_df.count()\n",
    "# rename column\n",
    "renamed_df = newdf.rename(columns={'Voter ID':'Vote Count'})\n",
    "# calculate percent of total\n",
    "percentotal = renamed_df[\"Vote Count\"]/tot_votes\n",
    "# rename column\n",
    "renamed_df[\"Percent of Total\"] = percentotal\n",
    "# remove arbitrary column\n",
    "reduced_df = renamed_df[[\"Vote Count\",\"Percent of Total\"]]\n",
    "# print\n",
    "reduced_df"
   ]
  },
  {
   "cell_type": "code",
   "execution_count": 24,
   "metadata": {},
   "outputs": [
    {
     "data": {
      "text/html": [
       "<style  type=\"text/css\" >\n",
       "</style><table id=\"T_a5534ccc_0ff0_11ea_abd7_c2ab52a02dd9\" ><thead>    <tr>        <th class=\"blank level0\" ></th>        <th class=\"col_heading level0 col0\" >Vote Count</th>        <th class=\"col_heading level0 col1\" >Percent of Total</th>    </tr>    <tr>        <th class=\"index_name level0\" >Candidate</th>        <th class=\"blank\" ></th>        <th class=\"blank\" ></th>    </tr></thead><tbody>\n",
       "                <tr>\n",
       "                        <th id=\"T_a5534ccc_0ff0_11ea_abd7_c2ab52a02dd9level0_row0\" class=\"row_heading level0 row0\" >Correy</th>\n",
       "                        <td id=\"T_a5534ccc_0ff0_11ea_abd7_c2ab52a02dd9row0_col0\" class=\"data row0 col0\" >704,200</td>\n",
       "                        <td id=\"T_a5534ccc_0ff0_11ea_abd7_c2ab52a02dd9row0_col1\" class=\"data row0 col1\" >20.00%</td>\n",
       "            </tr>\n",
       "            <tr>\n",
       "                        <th id=\"T_a5534ccc_0ff0_11ea_abd7_c2ab52a02dd9level0_row1\" class=\"row_heading level0 row1\" >Khan</th>\n",
       "                        <td id=\"T_a5534ccc_0ff0_11ea_abd7_c2ab52a02dd9row1_col0\" class=\"data row1 col0\" >2,218,231</td>\n",
       "                        <td id=\"T_a5534ccc_0ff0_11ea_abd7_c2ab52a02dd9row1_col1\" class=\"data row1 col1\" >63.00%</td>\n",
       "            </tr>\n",
       "            <tr>\n",
       "                        <th id=\"T_a5534ccc_0ff0_11ea_abd7_c2ab52a02dd9level0_row2\" class=\"row_heading level0 row2\" >Li</th>\n",
       "                        <td id=\"T_a5534ccc_0ff0_11ea_abd7_c2ab52a02dd9row2_col0\" class=\"data row2 col0\" >492,940</td>\n",
       "                        <td id=\"T_a5534ccc_0ff0_11ea_abd7_c2ab52a02dd9row2_col1\" class=\"data row2 col1\" >14.00%</td>\n",
       "            </tr>\n",
       "            <tr>\n",
       "                        <th id=\"T_a5534ccc_0ff0_11ea_abd7_c2ab52a02dd9level0_row3\" class=\"row_heading level0 row3\" >O'Tooley</th>\n",
       "                        <td id=\"T_a5534ccc_0ff0_11ea_abd7_c2ab52a02dd9row3_col0\" class=\"data row3 col0\" >105,630</td>\n",
       "                        <td id=\"T_a5534ccc_0ff0_11ea_abd7_c2ab52a02dd9row3_col1\" class=\"data row3 col1\" >3.00%</td>\n",
       "            </tr>\n",
       "    </tbody></table>"
      ],
      "text/plain": [
       "<pandas.io.formats.style.Styler at 0x23cba750b08>"
      ]
     },
     "execution_count": 24,
     "metadata": {},
     "output_type": "execute_result"
    }
   ],
   "source": [
    "# reformat to %\n",
    "format_dict = {'Vote Count':'{0:,.0f}', 'Percent of Total': '{:.2%}'}\n",
    "reformat = reduced_df.style.format(format_dict)\n",
    "reformat"
   ]
  },
  {
   "cell_type": "code",
   "execution_count": 32,
   "metadata": {},
   "outputs": [
    {
     "name": "stdout",
     "output_type": "stream",
     "text": [
      "-----------------------\n",
      "Election Results\n",
      "-----------------------\n",
      "Total Votes: 3521001\n",
      "-----------------------\n",
      "           Vote Count  Percent of Total\n",
      "Candidate                              \n",
      "Correy         704200              0.20\n",
      "Khan          2218231              0.63\n",
      "Li             492940              0.14\n",
      "O'Tooley       105630              0.03\n",
      "-----------------------\n",
      "Winner: Khan\n",
      "-----------------------\n"
     ]
    }
   ],
   "source": [
    "print(f'-----------------------')\n",
    "print(f'Election Results')\n",
    "print(f'-----------------------')\n",
    "print(f'Total Votes: {tot_votes}')\n",
    "print(f'-----------------------')\n",
    "print(f'{reduced_df}')\n",
    "print(f'-----------------------')\n",
    "print(f'Winner: Khan')\n",
    "print(f'-----------------------')"
   ]
  },
  {
   "cell_type": "code",
   "execution_count": 33,
   "metadata": {},
   "outputs": [],
   "source": [
    "# form text for output\n",
    "text = (\n",
    "    f\"----------------------------\\n\"\n",
    "    f\"Election Results\\n\"\n",
    "    f\"----------------------------\\n\"\n",
    "    f\"Total Votes: {tot_votes}\\n\"\n",
    "    f\"----------------------------\\n\"\n",
    "    f\"{reduced_df}\\n\"\n",
    "    f\"----------------------------\\n\"\n",
    "    f\"Winner: Khan\\n\"\n",
    "    f\"----------------------------\\n\"\n",
    ")"
   ]
  },
  {
   "cell_type": "code",
   "execution_count": 34,
   "metadata": {},
   "outputs": [],
   "source": [
    "# define output\n",
    "pathout = (\"pollinfo.txt\")"
   ]
  },
  {
   "cell_type": "code",
   "execution_count": 35,
   "metadata": {},
   "outputs": [],
   "source": [
    "# write to file\n",
    "with open(pathout, \"w\") as txt_file:\n",
    "    txt_file.write(text)"
   ]
  },
  {
   "cell_type": "code",
   "execution_count": null,
   "metadata": {},
   "outputs": [],
   "source": []
  }
 ],
 "metadata": {
  "kernelspec": {
   "display_name": "Python 3",
   "language": "python",
   "name": "python3"
  },
  "language_info": {
   "codemirror_mode": {
    "name": "ipython",
    "version": 3
   },
   "file_extension": ".py",
   "mimetype": "text/x-python",
   "name": "python",
   "nbconvert_exporter": "python",
   "pygments_lexer": "ipython3",
   "version": "3.7.4"
  }
 },
 "nbformat": 4,
 "nbformat_minor": 2
}
